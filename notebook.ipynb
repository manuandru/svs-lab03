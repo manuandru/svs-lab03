{
 "cells": [
  {
   "cell_type": "markdown",
   "metadata": {},
   "source": [
    "# Carla 02\n",
    "\n",
    "## Toubleshooting: Conda in VS code Python notebook \n",
    "\n",
    "Conda may not work in VS code Python notebook. Here are some common issues and solutions.\n",
    "\n",
    "### Check if everything works\n",
    "\n",
    "From a python notebook in VS code, click on `Select kernel` in the top right corner.\n",
    "\n",
    "![Python notebook kernel selection](img/python-kernel.png)\n",
    "\n",
    "Run a cell with the following code (install `ipykernel` if requested):\n",
    "\n",
    "```python\n",
    "import carla\n",
    "```\n",
    "\n",
    "### Conda not found in VS code but works in terminal\n",
    "\n",
    "If you have installed conda and it works in terminal but not in VS code, you may need to add the conda path to the VS code settings.\n",
    "\n",
    "1. Search for `conda.exe` absolute path in terminal. (e.g. `C:\\anaconda3\\Scripts\\conda.exe`).\n",
    "2. Open the VS code settings by pressing `Ctrl + ,` (or `File > Preferences > Settings`).\n",
    "3. Search for `python.condaPath` in the search bar.\n",
    "4. Paste the conda path in the `Python: Conda Path` field.\n",
    "    ![Python conda path](img/python-conda-path.png)\n",
    "5. Save the settings and restart VS code.\n"
   ]
  },
  {
   "cell_type": "code",
   "execution_count": null,
   "metadata": {},
   "outputs": [],
   "source": [
    "import carla, time, pygame, math, random"
   ]
  },
  {
   "cell_type": "code",
   "execution_count": 3,
   "metadata": {},
   "outputs": [],
   "source": [
    "client = carla.Client('localhost', 2000)\n",
    "client.set_timeout(10.0)\n",
    "\n",
    "world = client.get_world()\n",
    "spectator = world.get_spectator()"
   ]
  },
  {
   "cell_type": "markdown",
   "metadata": {},
   "source": [
    "## Some helpful functions used in this notebook"
   ]
  },
  {
   "cell_type": "code",
   "execution_count": 4,
   "metadata": {},
   "outputs": [],
   "source": [
    "def move_spectator_to(transform, spectator, distance=5.0, x=0, y=0, z=4, yaw=0, pitch=-30, roll=0):\n",
    "    back_location = transform.location - transform.get_forward_vector() * distance\n",
    "    \n",
    "    back_location.x += x\n",
    "    back_location.y += y\n",
    "    back_location.z += z\n",
    "    transform.rotation.yaw += yaw\n",
    "    transform.rotation.pitch = pitch\n",
    "    transform.rotation.roll = roll\n",
    "    \n",
    "    spectator_transform = carla.Transform(back_location, transform.rotation)\n",
    "    \n",
    "    spectator.set_transform(spectator_transform)\n",
    "\n",
    "def spawn_vehicle(world, vehicle_index=0, spawn_index=0):\n",
    "    blueprint_library = world.get_blueprint_library()\n",
    "    vehicle_bp = blueprint_library.filter('vehicle.*')[vehicle_index]\n",
    "    spawn_point = world.get_map().get_spawn_points()[spawn_index]\n",
    "    vehicle = world.spawn_actor(vehicle_bp, spawn_point)\n",
    "    return vehicle\n",
    "\n",
    "def draw_on_screen(world, transform, content=\"O\", color=carla.Color(0, 255, 0), life_time=20):\n",
    "    world.debug.draw_string(transform.location, content, color=color, life_time=life_time)\n"
   ]
  },
  {
   "cell_type": "markdown",
   "metadata": {},
   "source": [
    "## Making the Spectator Follow a Driving Car\n",
    "\n",
    "In this exercise, we will use the CARLA simulator to spawn a vehicle and make it drive autonomously using the autopilot feature. Additionally, we will set the spectator's view to follow the vehicle from above, providing a bird's-eye view of the car as it navigates through the environment.\n",
    "\n",
    "### Steps:\n",
    "1. Spawn a vehicle\n",
    "2. Set the vehicle's autopilot mode\n",
    "3. Make the spectator follows the vehicle"
   ]
  },
  {
   "cell_type": "code",
   "execution_count": null,
   "metadata": {},
   "outputs": [],
   "source": [
    "vehicle = spawn_vehicle(world)\n",
    "vehicle.set_autopilot(True)\n",
    "\n",
    "while True:\n",
    "    move_spectator_to(vehicle.get_transform(), spectator)\n",
    "    world.tick()"
   ]
  },
  {
   "cell_type": "code",
   "execution_count": null,
   "metadata": {},
   "outputs": [],
   "source": [
    "vehicle.destroy()"
   ]
  },
  {
   "cell_type": "markdown",
   "metadata": {},
   "source": [
    "## Waypoint\n",
    "\n",
    "Waypoints are specific points along the road network that help define the driving path for vehicles. They are essential for navigation, as they represent locations on the road where vehicles can move to while following a specific route. Waypoints linked together form a continuous path that autonomous agents, like cars or pedestrians, can follow to move smoothly across the environment.\n",
    "\n",
    "![waypoints](img/waypoints.png)\n",
    "\n",
    "### Example of waypoint creation\n",
    "\n",
    "Waypoints can be created manually or automatically using the CARLA Python API. In the example below, we create waypoints based on car position."
   ]
  },
  {
   "cell_type": "code",
   "execution_count": null,
   "metadata": {},
   "outputs": [],
   "source": [
    "vehicle = spawn_vehicle(world)\n",
    "vehicle.set_autopilot(True)\n",
    "\n",
    "waypoints_list = []\n",
    "\n",
    "for _ in range(10):\n",
    "    transform = vehicle.get_transform()\n",
    "    waypoint = world.get_map().get_waypoint(transform.location)\n",
    "    waypoints_list.append(waypoint)\n",
    "    world.tick()\n",
    "    time.sleep(1)\n",
    "\n",
    "for wp in waypoints_list:\n",
    "    print(wp.transform.location)"
   ]
  },
  {
   "cell_type": "code",
   "execution_count": null,
   "metadata": {},
   "outputs": [],
   "source": [
    "vehicle.destroy()"
   ]
  },
  {
   "cell_type": "markdown",
   "metadata": {},
   "source": [
    "### Debug utily: draw something in the screen\n",
    "\n",
    "In order to help visualize positions and debug the code, we can draw points, lines, and other shapes directly on the screen. This can be useful for understanding the vehicle's position, orientation, trajectory, and so on. These particular elements can also be automatically removed from the screen after a certain amount of time, making it easier to track changes in the simulation.\n",
    "\n",
    "Available shapes are arrow, box, line, point, and string. Here methods used to draw them:\n",
    "\n",
    "- `world.debug.draw_arrow`\n",
    "- `world.debug.draw_box`\n",
    "- `world.debug.draw_line`\n",
    "- `world.debug.draw_point`\n",
    "- `world.debug.draw_string`"
   ]
  },
  {
   "cell_type": "code",
   "execution_count": 164,
   "metadata": {},
   "outputs": [],
   "source": [
    "for wp in waypoints_list:\n",
    "    world.debug.draw_string(\n",
    "        wp.transform.location,\n",
    "        'Waypoint Here!',\n",
    "        color=carla.Color(r=0, g=255, b=0),\n",
    "        life_time=20.0, # life_time=0 means infinite\n",
    "    )"
   ]
  },
  {
   "cell_type": "markdown",
   "metadata": {},
   "source": [
    "### Roads\n",
    "\n",
    "Roads are the main infrastructure in the CARLA simulator, representing the paths where vehicles can drive. They are composed of lanes, waypoints, and other elements that define the driving environment. Roads can have different shapes, sizes, and configurations, depending on the specific scenario or map being used.\n",
    "\n",
    "Now we will explore roads as a sequence of waypoints, plotting them on the screen to visualize the driving path that a vehicle could follow."
   ]
  },
  {
   "cell_type": "code",
   "execution_count": 8,
   "metadata": {},
   "outputs": [],
   "source": [
    "roads = world.get_map().get_topology()\n",
    "\n",
    "waypoint = roads[0][0]\n",
    "draw_on_screen(world, waypoint.transform)"
   ]
  },
  {
   "cell_type": "code",
   "execution_count": null,
   "metadata": {},
   "outputs": [],
   "source": [
    "for i in range(1000):\n",
    "    # get the next waypoint with distance 1\n",
    "    waypoint = waypoint.next(1)[0]\n",
    "    draw_on_screen(world, waypoint.transform)\n",
    "    time.sleep(0.01)"
   ]
  },
  {
   "cell_type": "markdown",
   "metadata": {},
   "source": [
    "Now let's drawing some **roads** in the screen."
   ]
  },
  {
   "cell_type": "code",
   "execution_count": 14,
   "metadata": {},
   "outputs": [],
   "source": [
    "def color_generator():\n",
    "    colors = [\n",
    "        carla.Color(r=r, g=g, b=b) for r in [0, 255] for g in [0, 255] for b in [0, 255]\n",
    "    ]\n",
    "    while True:\n",
    "        for color in colors:\n",
    "            yield color\n",
    "\n",
    "for i, color in zip(range(len(roads)), color_generator()):\n",
    "    waypoint = roads[i][0]\n",
    "    for j in range(1000):\n",
    "        waypoint = waypoint.next(3)[0]\n",
    "        draw_on_screen(world, waypoint.transform, color=color, life_time=10)\n",
    "    time.sleep(0.5)"
   ]
  },
  {
   "cell_type": "markdown",
   "metadata": {},
   "source": [
    "## Positioning vs Controlling a Vehicle\n",
    "\n",
    "Now, we will explore the difference between positioning and controlling a vehicle.\n",
    "\n",
    "- **Positioning**: setting the vehicle's location and orientation in the environment\n",
    "- **Controlling**: managing the vehicle's speed, steering, and other driving parameters.\n",
    "\n",
    "### Position a Vehicle\n",
    "\n",
    "Position a vehicle is useful when we want to place a vehicle at a specific location in the environment. This can be considered a static operation, as the vehicle will not move unless explicitly controlled."
   ]
  },
  {
   "cell_type": "code",
   "execution_count": 20,
   "metadata": {},
   "outputs": [],
   "source": [
    "vehicle = spawn_vehicle(world)\n",
    "roads = world.get_map().get_topology()\n",
    "waypoint = roads[0][0]\n",
    "\n",
    "vehicle.set_transform(waypoint.transform)"
   ]
  },
  {
   "cell_type": "markdown",
   "metadata": {},
   "source": [
    "While positioning a vehicle, with tuning of the timing and the location, could result like the vehicle is moving in the environment, this is just a visual effect, as the vehicle is not actively controlled.\n",
    "\n",
    "This operation **cannot be considered as driving**, as the vehicle is not moving autonomously or following a specific path."
   ]
  },
  {
   "cell_type": "code",
   "execution_count": 21,
   "metadata": {},
   "outputs": [],
   "source": [
    "sleep_time = 1\n",
    "waypoint_distance = 1\n",
    "\n",
    "try:\n",
    "    while True:\n",
    "        waypoint = waypoint.next(waypoint_distance)[0]\n",
    "        vehicle.set_transform(waypoint.transform)\n",
    "        time.sleep(sleep_time)\n",
    "except KeyboardInterrupt:\n",
    "    pass\n",
    "finally:\n",
    "    vehicle.destroy()"
   ]
  },
  {
   "cell_type": "markdown",
   "metadata": {},
   "source": [
    "### Control a Vehicle\n",
    "\n",
    "Controlling a vehicle is useful when we want to make a vehicle move in the environment.\n",
    "\n",
    "This can be considered a dynamic operation, as the vehicle will change its position and orientation based on the control commands given."
   ]
  },
  {
   "cell_type": "code",
   "execution_count": null,
   "metadata": {},
   "outputs": [],
   "source": [
    "vehicle = spawn_vehicle(world)\n",
    "\n",
    "throttle = 0.6\n",
    "\n",
    "def move_forward(vehicle, duration):\n",
    "    control = carla.VehicleControl()\n",
    "    control.throttle = throttle\n",
    "    vehicle.apply_control(control)\n",
    "    start_time = time.time()\n",
    "    while time.time() - start_time < duration:\n",
    "        world.tick()\n",
    "        time.sleep(0.1)\n",
    "\n",
    "def steer_left(vehicle):\n",
    "    control = carla.VehicleControl()\n",
    "    control.throttle = throttle\n",
    "    control.steer = -0.38\n",
    "    vehicle.apply_control(control)\n",
    "    world.tick()\n",
    "    time.sleep(2)\n",
    "\n",
    "try:\n",
    "    move_forward(vehicle, 5)\n",
    "    steer_left(vehicle)\n",
    "    move_forward(vehicle, 20)\n",
    "finally:\n",
    "    vehicle.destroy()"
   ]
  },
  {
   "cell_type": "markdown",
   "metadata": {},
   "source": [
    "### Example of random movement"
   ]
  },
  {
   "cell_type": "code",
   "execution_count": 23,
   "metadata": {},
   "outputs": [],
   "source": [
    "vehicle = spawn_vehicle(world)\n",
    "\n",
    "def random_control(vehicle):\n",
    "    control = carla.VehicleControl()\n",
    "    control.throttle = random.uniform(0.5, 1.0)\n",
    "    control.steer = random.uniform(-1.0, 1.0)\n",
    "    vehicle.apply_control(control)\n",
    "\n",
    "try:\n",
    "    while True:\n",
    "        random_control(vehicle)\n",
    "        world.tick()\n",
    "        time.sleep(0.1)\n",
    "except KeyboardInterrupt:\n",
    "    pass\n",
    "finally:\n",
    "    vehicle.destroy()"
   ]
  },
  {
   "cell_type": "markdown",
   "metadata": {},
   "source": [
    "## Exercise 1: looking reverse\n",
    "\n",
    "Based on the spectator that follows the car code, make the it look in the opposite direction when a key is pressed (e.g., `r`).\n",
    "\n",
    "To get user input, you can use `pygame` library with the following code. "
   ]
  },
  {
   "cell_type": "code",
   "execution_count": null,
   "metadata": {},
   "outputs": [],
   "source": [
    "pygame.init()\n",
    "# focus on the pygame window to get the key pressed\n",
    "pygame.display.set_mode((400, 300))\n",
    "\n",
    "running = True\n",
    "while running:\n",
    "    for event in pygame.event.get():\n",
    "        if event.type == pygame.KEYDOWN:\n",
    "            key = event.key\n",
    "            print(f\"Key pressed: {pygame.key.name(key)}\")\n",
    "            if key == pygame.QUIT or key == pygame.K_ESCAPE:\n",
    "                running = False\n",
    "\n",
    "pygame.quit()"
   ]
  },
  {
   "cell_type": "code",
   "execution_count": null,
   "metadata": {},
   "outputs": [],
   "source": [
    "pygame.init()\n",
    "screen = pygame.display.set_mode((400, 300))\n",
    "\n",
    "vehicle = spawn_vehicle(world)\n",
    "vehicle.set_autopilot(True)\n",
    "\n",
    "running = True\n",
    "reverse_view = False\n",
    "while running:\n",
    "    for event in pygame.event.get():\n",
    "        if event.type == pygame.KEYDOWN:\n",
    "            key = event.key\n",
    "            if key == pygame.QUIT or key == pygame.K_ESCAPE:\n",
    "                running = False\n",
    "            elif key == pygame.K_r:\n",
    "                reverse_view = not reverse_view\n",
    "\n",
    "    move_spectator_to(vehicle.get_transform(), spectator, yaw=180 if reverse_view else 0)\n",
    "    world.tick()\n",
    "    pygame.display.flip()\n",
    "\n",
    "pygame.quit()\n",
    "vehicle.destroy()"
   ]
  },
  {
   "cell_type": "markdown",
   "metadata": {},
   "source": [
    "## Exercise 2: draw a debug circle around a car\n",
    "\n",
    "Based on the code that draws a debug circle around a car, make the circle follow the car as it moves."
   ]
  },
  {
   "cell_type": "code",
   "execution_count": null,
   "metadata": {},
   "outputs": [],
   "source": [
    "vehicle = spawn_vehicle(world)\n",
    "vehicle.set_autopilot(True)\n",
    "\n",
    "try:\n",
    "    while True:\n",
    "        transform = vehicle.get_transform()\n",
    "\n",
    "        # draw a circle around the vehicle\n",
    "        for i in range(0, 360, 36):\n",
    "            angle = math.radians(i)\n",
    "            x = transform.location.x + math.cos(angle)\n",
    "            y = transform.location.y + math.sin(angle)\n",
    "            circle_location = carla.Location(x=x, y=y, z=transform.location.z)\n",
    "            circle_transform = carla.Transform(circle_location, transform.rotation)\n",
    "            draw_on_screen(world, circle_transform, color=carla.Color(255, 0, 0), life_time=0.1)\n",
    "\n",
    "        world.tick()\n",
    "        time.sleep(0.1)\n",
    "finally:\n",
    "    vehicle.destroy()"
   ]
  },
  {
   "cell_type": "markdown",
   "metadata": {},
   "source": [
    "## Exercise 3: Controlled Car\n",
    "\n",
    "Make the car move forward when the `w` key is pressed and stop when the `s` key is pressed."
   ]
  },
  {
   "cell_type": "markdown",
   "metadata": {},
   "source": [
    "## Exercise 3 bis: Pattern based movement\n",
    "\n",
    "Make the car move following specific patterns.\n",
    "\n",
    "- when the `z` key is pressed, the car should move following a **zigzag** pattern.\n",
    "- when the `x` key is pressed, the car should move following a **square** pattern.\n",
    "- when the `c` key is pressed, the car should move following a **circle** pattern."
   ]
  },
  {
   "cell_type": "markdown",
   "metadata": {},
   "source": [
    "## Exercise 3 tris: Pacman Effect\n",
    "\n",
    "Make the car move straightforward and when it reaches the end of the road, the so-called \"Pacman effect\" should happen, i.e., the car should appear on the opposite side of the world.\n",
    "\n",
    "[Pacman Effect](https://en.wiktionary.org/wiki/Pac-Man_effect)"
   ]
  }
 ],
 "metadata": {
  "kernelspec": {
   "display_name": "carla-svs-lab02",
   "language": "python",
   "name": "python3"
  },
  "language_info": {
   "codemirror_mode": {
    "name": "ipython",
    "version": 3
   },
   "file_extension": ".py",
   "mimetype": "text/x-python",
   "name": "python",
   "nbconvert_exporter": "python",
   "pygments_lexer": "ipython3",
   "version": "3.7.12"
  }
 },
 "nbformat": 4,
 "nbformat_minor": 2
}
